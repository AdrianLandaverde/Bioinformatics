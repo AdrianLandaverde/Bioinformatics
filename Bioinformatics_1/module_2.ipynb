{
 "cells": [
  {
   "cell_type": "markdown",
   "metadata": {},
   "source": [
    "# Bioinformatics I: Finding Hidden Mesasages in DNA\n",
    "## Week 2: Where in the Genome Does DNA Replication Begin?"
   ]
  },
  {
   "cell_type": "markdown",
   "metadata": {},
   "source": [
    "### Problem 2.1: Skew Diagram"
   ]
  },
  {
   "cell_type": "code",
   "execution_count": 42,
   "metadata": {},
   "outputs": [],
   "source": [
    "def get_skew(genome):\n",
    "\tskew = [0]\n",
    "\tfor i in range(1, len(genome)+1):\n",
    "\t\tif genome[i-1] == 'C':\n",
    "\t\t\tskew.append(skew[i-1] - 1)\n",
    "\t\telif genome[i-1] == 'G':\n",
    "\t\t\tskew.append(skew[i-1] + 1)\n",
    "\t\telse:\n",
    "\t\t\tskew.append(skew[i-1])\n",
    "\treturn skew"
   ]
  },
  {
   "cell_type": "code",
   "execution_count": 43,
   "metadata": {},
   "outputs": [
    {
     "name": "stdout",
     "output_type": "stream",
     "text": [
      "0 -1 -1 -1 -1 -2 -3 -3 -2 -2 -2 -3 -3 -3 -4 -4 -4 -3 -3 -3 -2 -1 -2 -1 -1 0 0 0 1 1 "
     ]
    }
   ],
   "source": [
    "skew= get_skew('CATTCCAGTACTTCATGATGGCGTGAAGA')\n",
    "for i in skew:\n",
    "\tprint(i, end=' ')"
   ]
  },
  {
   "cell_type": "markdown",
   "metadata": {},
   "source": [
    "### Problem 2.2: Minimum Skew Problem"
   ]
  },
  {
   "cell_type": "code",
   "execution_count": 44,
   "metadata": {},
   "outputs": [],
   "source": [
    "import numpy as np"
   ]
  },
  {
   "cell_type": "code",
   "execution_count": 45,
   "metadata": {},
   "outputs": [],
   "source": [
    "def min_skew(genome):\n",
    "\tskew = get_skew(genome)\n",
    "\tmin_skew = np.min(skew)\n",
    "\treturn [i for i, x in enumerate(skew) if x == min_skew]"
   ]
  },
  {
   "cell_type": "code",
   "execution_count": 46,
   "metadata": {},
   "outputs": [
    {
     "data": {
      "text/plain": [
       "[11, 24]"
      ]
     },
     "execution_count": 46,
     "metadata": {},
     "output_type": "execute_result"
    }
   ],
   "source": [
    "min_skew('TAAAGACTGCCGAGAGGCCAACACGAGTGCTAGAACGAGGGGCGTAAACGCGGGTCCGAT')"
   ]
  },
  {
   "cell_type": "markdown",
   "metadata": {},
   "source": [
    "### Problem 2.3: Hamming Distance"
   ]
  },
  {
   "cell_type": "code",
   "execution_count": 47,
   "metadata": {},
   "outputs": [],
   "source": [
    "def hamming_distance(genome1, genome2):\n",
    "\tdistance = 0\n",
    "\tfor i in range(len(genome1)):\n",
    "\t\tif genome1[i] != genome2[i]:\n",
    "\t\t\tdistance += 1\n",
    "\treturn distance"
   ]
  },
  {
   "cell_type": "code",
   "execution_count": 48,
   "metadata": {},
   "outputs": [
    {
     "data": {
      "text/plain": [
       "50"
      ]
     },
     "execution_count": 48,
     "metadata": {},
     "output_type": "execute_result"
    }
   ],
   "source": [
    "genome1= 'TGACCCGTTATGCTCGAGTTCGGTCAGAGCGTCATTGCGAGTAGTCGTTTGCTTTCTCAAACTCC'\n",
    "genome2= 'GAGCGATTAAGCGTGACAGCCCCAGGGAACCCACAAAACGTGATCGCAGTCCATCCGATCATACA'\n",
    "hamming_distance(genome1, genome2)"
   ]
  },
  {
   "cell_type": "markdown",
   "metadata": {},
   "source": [
    "### Problem 2.4: Approximate Pattern Matching Problem"
   ]
  },
  {
   "cell_type": "code",
   "execution_count": 49,
   "metadata": {},
   "outputs": [],
   "source": [
    "def approximate_pattern_matching(pattern, genome, d):\n",
    "\tpositions = []\n",
    "\tfor i in range(len(genome)-len(pattern)+1):\n",
    "\t\tif hamming_distance(pattern, genome[i:i+len(pattern)]) <= d:\n",
    "\t\t\tpositions.append(i)\n",
    "\treturn positions"
   ]
  },
  {
   "cell_type": "code",
   "execution_count": 50,
   "metadata": {},
   "outputs": [
    {
     "name": "stdout",
     "output_type": "stream",
     "text": [
      "6 7 26 27 "
     ]
    }
   ],
   "source": [
    "pattern= 'ATTCTGGA'\n",
    "genome= 'CGCCCGAATCCAGAACGCATTCCCATATTTCGGGACCACTGGCCTCCACGGTACGGACGTCAATCAAAT'\n",
    "d= 3\n",
    "appox_pattern= approximate_pattern_matching(pattern, genome, d)\n",
    "for i in appox_pattern:\n",
    "\tprint(i, end=' ')"
   ]
  },
  {
   "cell_type": "markdown",
   "metadata": {},
   "source": [
    "### Problem 2.5: Approximate Pattern Count"
   ]
  },
  {
   "cell_type": "code",
   "execution_count": 51,
   "metadata": {},
   "outputs": [],
   "source": [
    "def approximate_pattern_count(pattern, genome, d):\n",
    "\tappox_pattern= approximate_pattern_matching(pattern, genome, d)\n",
    "\treturn len(appox_pattern)"
   ]
  },
  {
   "cell_type": "code",
   "execution_count": 52,
   "metadata": {},
   "outputs": [
    {
     "data": {
      "text/plain": [
       "13"
      ]
     },
     "execution_count": 52,
     "metadata": {},
     "output_type": "execute_result"
    }
   ],
   "source": [
    "pattern= 'AA'\n",
    "genome= 'TACGCATTACAAAGCACA'\n",
    "d=1\n",
    "approximate_pattern_count(pattern, genome, d)"
   ]
  },
  {
   "cell_type": "markdown",
   "metadata": {},
   "source": [
    "### Problem 2.6: Frequent Words with Mismatches"
   ]
  },
  {
   "cell_type": "code",
   "execution_count": 28,
   "metadata": {},
   "outputs": [],
   "source": [
    "def neighbours(pattern, d):\n",
    "\tif d == 0:\n",
    "\t\treturn pattern\n",
    "\tif len(pattern) == 1:\n",
    "\t\treturn ['A', 'C', 'G', 'T']\n",
    "\tneighbourhood = []\n",
    "\tsuffix_neighbours = neighbours(pattern[1:], d)\n",
    "\tfor text in suffix_neighbours:\n",
    "\t\tif hamming_distance(pattern[1:], text) < d:\n",
    "\t\t\tfor x in ['A', 'C', 'G', 'T']:\n",
    "\t\t\t\tneighbourhood.append(x + text)\n",
    "\t\telse:\n",
    "\t\t\tneighbourhood.append(pattern[0] + text)\n",
    "\treturn neighbourhood"
   ]
  },
  {
   "cell_type": "code",
   "execution_count": 29,
   "metadata": {},
   "outputs": [],
   "source": [
    "def frequent_words_with_mismatches(genome, k, d):\n",
    "\tpatterns = []\n",
    "\tfreq_map= {}\n",
    "\tfor i in range(len(genome)-k+1):\n",
    "\t\tneighbourhood = neighbours(genome[i:i+k], d)\n",
    "\t\tfor pattern in neighbourhood:\n",
    "\t\t\tif pattern not in freq_map:\n",
    "\t\t\t\tfreq_map[pattern] = 1\n",
    "\t\t\telse:\n",
    "\t\t\t\tfreq_map[pattern] += 1\n",
    "\tmax_count = max(freq_map.values())\n",
    "\tfor pattern in freq_map:\n",
    "\t\tif freq_map[pattern] == max_count:\n",
    "\t\t\tpatterns.append(pattern)\n",
    "\treturn patterns"
   ]
  },
  {
   "cell_type": "code",
   "execution_count": 31,
   "metadata": {},
   "outputs": [
    {
     "data": {
      "text/plain": [
       "['AAAAGAA']"
      ]
     },
     "execution_count": 31,
     "metadata": {},
     "output_type": "execute_result"
    }
   ],
   "source": [
    "genome= 'GAACGAACAATAATTGAAATAATTTTAGAAATAATGAACTTTTGAGAACGAACAGAAATAGATTTGAACAGAAGATGAAGAGAACAATAGAAATAGATTTAATGAACAATAATTTTTGAGAACGAACGAACTGAAGATGATGAAGATGAGAACAATTTTAGAAATTGAAATTTTAATTGAGAACTTTGAACAATAGAAATAATGAACAATAGAAATTGAAATTTTTTTTGAAGAAATAGAGAACGAACAATAATAGATTTGAACTGAAATGAACGAACTGATTTGAACTGAAATAATTTTTTTTTTAGAGAACAATGAACGAACGAACTGAAGAAATTGATGAGAACAGAGAACTTTTTTTGA'\n",
    "frequent_words_with_mismatches(genome, 7, 2)"
   ]
  },
  {
   "cell_type": "markdown",
   "metadata": {},
   "source": [
    "### Problem 2.7: Frequent Words with Mismatches and Reverse Complements"
   ]
  },
  {
   "cell_type": "code",
   "execution_count": 32,
   "metadata": {},
   "outputs": [],
   "source": [
    "def reverse_complement(pattern):\n",
    "\tcomplement= {'A': 'T', 'C': 'G', 'G': 'C', 'T': 'A'}\n",
    "\treverse_complement= ''\n",
    "\tfor base in pattern:\n",
    "\t\treverse_complement= complement[base] + reverse_complement\n",
    "\treturn reverse_complement"
   ]
  },
  {
   "cell_type": "code",
   "execution_count": 33,
   "metadata": {},
   "outputs": [],
   "source": [
    "def frequent_words_with_mismatches_and_reverse_complements(genome, k, d):\n",
    "\tpatterns = []\n",
    "\tfreq_map= {}\n",
    "\tfor i in range(len(genome)-k+1):\n",
    "\t\tneighbourhood = neighbours(genome[i:i+k], d)\n",
    "\t\tfor pattern in neighbourhood:\n",
    "\t\t\tif pattern not in freq_map:\n",
    "\t\t\t\tfreq_map[pattern] = 1\n",
    "\t\t\telse:\n",
    "\t\t\t\tfreq_map[pattern] += 1\n",
    "\t\t\treverse_pattern = reverse_complement(pattern)\n",
    "\t\t\tif reverse_pattern not in freq_map:\n",
    "\t\t\t\tfreq_map[reverse_pattern] = 1\n",
    "\t\t\telse:\n",
    "\t\t\t\tfreq_map[reverse_pattern] += 1\n",
    "\tmax_count = max(freq_map.values())\n",
    "\tfor pattern in freq_map:\n",
    "\t\tif freq_map[pattern] == max_count:\n",
    "\t\t\tpatterns.append(pattern)\n",
    "\treturn patterns"
   ]
  },
  {
   "cell_type": "code",
   "execution_count": 36,
   "metadata": {},
   "outputs": [
    {
     "name": "stdout",
     "output_type": "stream",
     "text": [
      "GCAGCTG CAGCTGC "
     ]
    }
   ],
   "source": [
    "genome= 'CAATGATGGCGCCTGCACAATGGCACCTGGCGCATGGCCTGCTGCTGACACCTGCTGCTGATGGCCTGATGCTGACACGCATGATGCAGCCTGCTGGCCTGCACAATGGCACCTGATGCTGCACAGCGCCTGGCATGATGCTGCACTGCACAATGATGCAGCATGGCACGCACCTGACCAGCGCCTGCAATGACCTGACCTGCAGCACCTGGCACCTGCTGCTGACCTGATGCTGATGCTG'\n",
    "patterns= frequent_words_with_mismatches_and_reverse_complements(genome, 7, 2)\n",
    "for pattern in patterns:\n",
    "\tprint(pattern, end=' ')"
   ]
  },
  {
   "cell_type": "markdown",
   "metadata": {},
   "source": [
    "### Problem 2.8 Neighbors"
   ]
  },
  {
   "cell_type": "code",
   "execution_count": 55,
   "metadata": {},
   "outputs": [
    {
     "name": "stdout",
     "output_type": "stream",
     "text": [
      "TGAAA TACAA TCCAA AGCAA CGCAA GGCAA TGCAA TTCAA TGGAA TGTAA TGCCA TGCGA TGCTA TGAAC TACAC TCCAC AGCAC CGCAC GGCAC TGCAC TTCAC TGGAC TGTAC TGCCC TGCGC TGCTC TGAAG TACAG TCCAG AGCAG CGCAG GGCAG TGCAG TTCAG TGGAG TGTAG TGCCG TGCGG TGCTG TAAAT TCAAT AGAAT CGAAT GGAAT TGAAT TTAAT AACAT CACAT GACAT TACAT ACCAT CCCAT GCCAT TCCAT AGCAT CGCAT GGCAT TGCAT ATCAT CTCAT GTCAT TTCAT TAGAT TCGAT AGGAT CGGAT GGGAT TGGAT TTGAT TATAT TCTAT AGTAT CGTAT GGTAT TGTAT TTTAT TGACT TACCT TCCCT AGCCT CGCCT GGCCT TGCCT TTCCT TGGCT TGTCT TGAGT TACGT TCCGT AGCGT CGCGT GGCGT TGCGT TTCGT TGGGT TGTGT TGATT TACTT TCCTT AGCTT CGCTT GGCTT TGCTT TTCTT TGGTT TGTTT "
     ]
    }
   ],
   "source": [
    "neighs= neighbours('TGCAT', 2)\n",
    "for i in neighs:\n",
    "\tprint(i, end=' ')"
   ]
  },
  {
   "cell_type": "code",
   "execution_count": 56,
   "metadata": {},
   "outputs": [
    {
     "data": {
      "text/plain": [
       "106"
      ]
     },
     "execution_count": 56,
     "metadata": {},
     "output_type": "execute_result"
    }
   ],
   "source": [
    "len(neighs)"
   ]
  }
 ],
 "metadata": {
  "kernelspec": {
   "display_name": ".venv",
   "language": "python",
   "name": "python3"
  },
  "language_info": {
   "codemirror_mode": {
    "name": "ipython",
    "version": 3
   },
   "file_extension": ".py",
   "mimetype": "text/x-python",
   "name": "python",
   "nbconvert_exporter": "python",
   "pygments_lexer": "ipython3",
   "version": "3.9.13"
  }
 },
 "nbformat": 4,
 "nbformat_minor": 2
}
